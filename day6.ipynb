{
 "cells": [
  {
   "cell_type": "code",
   "execution_count": 16,
   "metadata": {},
   "outputs": [],
   "source": [
    "# some global data:\n",
    "\n",
    "border_index = len(map)\n",
    "guardian_position = (0,0) \n",
    "guardian_direction = 0 # 0: N, 1: E, 2: S, 3: W\n",
    "# those are the symbols for the guardian used on the map\n",
    "guardian_info = {'^': 0, '>': 1, 'V': 2, '<': 3}\n",
    "# as he's only turning left, add 1 to direction on every turn, modulo 4\n",
    "\n",
    "# area map\n",
    "map = []\n",
    "\n",
    "with open(\"input-day6.txt\") as f:\n",
    "    for line in f:\n",
    "        map.append(list(line.strip()))"
   ]
  },
  {
   "cell_type": "code",
   "execution_count": 17,
   "metadata": {},
   "outputs": [],
   "source": [
    "def find_guardian(map):\n",
    "    pass"
   ]
  },
  {
   "cell_type": "code",
   "execution_count": 18,
   "metadata": {},
   "outputs": [],
   "source": [
    "def simulate_guardian(map):\n",
    "    pass"
   ]
  },
  {
   "cell_type": "code",
   "execution_count": 19,
   "metadata": {},
   "outputs": [],
   "source": [
    "def run():\n",
    "    pass"
   ]
  }
 ],
 "metadata": {
  "kernelspec": {
   "display_name": "venv",
   "language": "python",
   "name": "python3"
  },
  "language_info": {
   "codemirror_mode": {
    "name": "ipython",
    "version": 3
   },
   "file_extension": ".py",
   "mimetype": "text/x-python",
   "name": "python",
   "nbconvert_exporter": "python",
   "pygments_lexer": "ipython3",
   "version": "3.13.0"
  }
 },
 "nbformat": 4,
 "nbformat_minor": 2
}
