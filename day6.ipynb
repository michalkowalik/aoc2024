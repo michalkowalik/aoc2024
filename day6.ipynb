{
 "cells": [
  {
   "cell_type": "code",
   "metadata": {
    "ExecuteTime": {
     "end_time": "2024-12-21T21:52:47.737835Z",
     "start_time": "2024-12-21T21:52:47.729514Z"
    }
   },
   "source": [
    "class Guardian:\n",
    "    position = (0,0)\n",
    "    direction = 0 # 0: N, 1: E, 2: S, 3: W\n",
    "    # those are the symbols for the guardian used on the map\n",
    "    info = {'^': 0, '>': 1, 'V': 2, '<': 3}\n",
    "    # as he's only turning right, add 1 to direction on every turn, modulo 4\n",
    "\n",
    "    def __init__(self, position, direction):\n",
    "        self.position = position\n",
    "        self.direction = direction \n",
    "\n",
    "    def step(self, map):\n",
    "        '''\n",
    "        Move guardian. \n",
    "        Return True if they stay on the map, false otherwise.\n",
    "        Mark the spot they leave with X\n",
    "        '''\n",
    "        \n",
    "        if((self.position[0] == 0 and self.direction == 0) or             # northern border, going north\n",
    "            (self.position[0] == len(map) - 1 and self.direction == 2) or     # southern border, going south\n",
    "            (self.position[1] == 0 and self.direction == 3) or            # western border, going west\n",
    "            (self.position[1] == len(map) - 1 and self.direction == 1)):      # eastern border, going east\n",
    "                map[self.position[0]][self.position[1]] = \"X\"\n",
    "                print(f'Leaving map at {self.position[0]}, {self.position[1]}')\n",
    "                return False\n",
    "\n",
    "        next_position = self.position\n",
    "        match self.direction:\n",
    "            case 0:\n",
    "                next_position = (self.position[0]-1, self.position[1])\n",
    "            case 1:\n",
    "                next_position = (self.position[0], self.position[1]+1)\n",
    "            case 2:\n",
    "                next_position = (self.position[0]+1, self.position[1])  \n",
    "            case 3:\n",
    "                next_position = (self.position[0], self.position[1]-1)\n",
    "\n",
    "\n",
    "        if map[next_position[0]][next_position[1]] == '#':\n",
    "            self.direction = (self.direction + 1) % 4\n",
    "        else:\n",
    "            map[self.position[0]][self.position[1]] = 'X'\n",
    "            self.position = next_position\n",
    "        return True"
   ],
   "outputs": [],
   "execution_count": 6
  },
  {
   "cell_type": "code",
   "metadata": {
    "ExecuteTime": {
     "end_time": "2024-12-21T21:52:47.808768Z",
     "start_time": "2024-12-21T21:52:47.804844Z"
    }
   },
   "source": [
    "def find_guardian(map):\n",
    "    '''\n",
    "    we simplify our life here, the guardiant is heading north we look for '^'\n",
    "    '''\n",
    "    for i in range(0, len(map)):\n",
    "        if '^' in map[i]:\n",
    "            return(i, map[i].index('^'))\n",
    "    return (0.0)"
   ],
   "outputs": [],
   "execution_count": 7
  },
  {
   "cell_type": "code",
   "metadata": {
    "ExecuteTime": {
     "end_time": "2024-12-21T21:52:47.823258Z",
     "start_time": "2024-12-21T21:52:47.817411Z"
    }
   },
   "source": [
    "# some global data:\n",
    "\n",
    "border_index = 0\n",
    "guardian_position = (0,0) \n",
    "guardian_direction = 0 # 0: N, 1: E, 2: S, 3: W\n",
    "# those are the symbols for the guardian used on the map\n",
    "guardian_info = {'^': 0, '>': 1, 'V': 2, '<': 3}\n",
    "# as he's only turning right, add 1 to direction on every turn, modulo 4\n",
    "\n",
    "# area map\n",
    "map = []\n",
    "\n",
    "with open(\"input-day6.txt\") as f:\n",
    "    for line in f:\n",
    "        map.append(list(line.strip()))\n",
    "\n",
    "border_index = len(map)\n",
    "g = find_guardian(map)\n",
    "guardian = Guardian(g, 0)"
   ],
   "outputs": [],
   "execution_count": 8
  },
  {
   "cell_type": "code",
   "metadata": {
    "ExecuteTime": {
     "end_time": "2024-12-21T21:52:47.863776Z",
     "start_time": "2024-12-21T21:52:47.859180Z"
    }
   },
   "source": [
    "print(g)"
   ],
   "outputs": [
    {
     "name": "stdout",
     "output_type": "stream",
     "text": [
      "(37, 65)\n"
     ]
    }
   ],
   "execution_count": 9
  },
  {
   "cell_type": "code",
   "metadata": {
    "ExecuteTime": {
     "end_time": "2024-12-21T21:52:47.926209Z",
     "start_time": "2024-12-21T21:52:47.912313Z"
    }
   },
   "source": [
    "def run():\n",
    "    while True:\n",
    "        if guardian.step(map) == False:\n",
    "            break\n",
    "\n",
    "    position_sum = 0\n",
    "    for row in map:\n",
    "        position_sum += len([x for x in row if x == 'X'])\n",
    "\n",
    "    return position_sum\n",
    "\n",
    "run()"
   ],
   "outputs": [
    {
     "name": "stdout",
     "output_type": "stream",
     "text": [
      "Leaving map at 129, 29\n"
     ]
    },
    {
     "data": {
      "text/plain": [
       "5409"
      ]
     },
     "execution_count": 10,
     "metadata": {},
     "output_type": "execute_result"
    }
   ],
   "execution_count": 10
  }
 ],
 "metadata": {
  "kernelspec": {
   "display_name": "venv",
   "language": "python",
   "name": "python3"
  },
  "language_info": {
   "codemirror_mode": {
    "name": "ipython",
    "version": 3
   },
   "file_extension": ".py",
   "mimetype": "text/x-python",
   "name": "python",
   "nbconvert_exporter": "python",
   "pygments_lexer": "ipython3",
   "version": "3.13.0"
  }
 },
 "nbformat": 4,
 "nbformat_minor": 2
}
