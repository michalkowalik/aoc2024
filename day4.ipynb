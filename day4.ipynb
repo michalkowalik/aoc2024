{
 "cells": [
  {
   "cell_type": "code",
   "execution_count": 7,
   "metadata": {},
   "outputs": [],
   "source": [
    "lines = []\n",
    "with open(\"input-day4.txt\") as f:\n",
    "    for line in f:\n",
    "        lines.append(list(line.strip()))"
   ]
  },
  {
   "cell_type": "code",
   "execution_count": 30,
   "metadata": {},
   "outputs": [],
   "source": [
    "def check_north(i, j):\n",
    "    if i > 2 and lines[i-1][j] == 'M' and lines[i-2][j] == 'A' and lines[i-3][j] == 'S':\n",
    "        return 1\n",
    "    return 0"
   ]
  },
  {
   "cell_type": "code",
   "execution_count": 28,
   "metadata": {},
   "outputs": [],
   "source": [
    "def check_south(i, j):\n",
    "    if i < len(lines) -3 and lines[i+1][j] == 'M' and lines[i+2][j] == 'A' and lines[i+3][j] == 'S':\n",
    "        return 1\n",
    "    return 0"
   ]
  },
  {
   "cell_type": "code",
   "execution_count": 23,
   "metadata": {},
   "outputs": [],
   "source": [
    "def check_west(i, j):\n",
    "    if j > 2 and lines[i][j-1] == 'M' and lines[i][j-2] == 'A' and lines[i][j-3] == 'S':\n",
    "        return 1\n",
    "    return 0"
   ]
  },
  {
   "cell_type": "code",
   "execution_count": 25,
   "metadata": {},
   "outputs": [],
   "source": [
    "def check_east(i, j):\n",
    "    if j < len(lines[i]) - 3 and lines[i][j+1] == 'M' and lines[i][j+2] == 'A' and lines[i][j+3] == 'S':\n",
    "        return 1\n",
    "    return 0"
   ]
  },
  {
   "cell_type": "code",
   "execution_count": 36,
   "metadata": {},
   "outputs": [],
   "source": [
    "def check_ne(i,j):\n",
    "    if i > 2 and j < len(lines[i]) - 3 and lines[i-1][j+1] == 'M' and lines[i-2][j+2] == 'A' and lines[i-3][j+3] == 'S':\n",
    "        return 1\n",
    "    return 0\n"
   ]
  },
  {
   "cell_type": "code",
   "execution_count": null,
   "metadata": {},
   "outputs": [],
   "source": [
    "def check_se(i,j):\n",
    "    if i < len(lines) - 3 and j < len(lines[i]) -3 and lines[i+1][j+1] == 'M' and lines[i+2][j+2] == 'A' and lines[i+3][j+3] == 'S':\n",
    "        return 1\n",
    "    return 0\n"
   ]
  },
  {
   "cell_type": "code",
   "execution_count": null,
   "metadata": {},
   "outputs": [],
   "source": [
    "def check_sw(i,j):\n",
    "    if i < len(lines) - 3 and j > 2 and lines[i+1][j-1] == 'M' and lines[i+2][j-2] == 'A' and lines[i+3][j-3] == 'S':\n",
    "        return 1\n",
    "    return 0"
   ]
  },
  {
   "cell_type": "code",
   "execution_count": 40,
   "metadata": {},
   "outputs": [],
   "source": [
    "def check_nw(i,j):\n",
    "    if i > 2 and j > 2 and lines[i-1][j-1] == 'M' and lines[i-2][j-2] == 'A' and lines[i-3][j-3] == 'S':\n",
    "        return 1\n",
    "    return 0"
   ]
  },
  {
   "cell_type": "code",
   "execution_count": 41,
   "metadata": {},
   "outputs": [
    {
     "data": {
      "text/plain": [
       "2662"
      ]
     },
     "execution_count": 41,
     "metadata": {},
     "output_type": "execute_result"
    }
   ],
   "source": [
    "occurences = 0\n",
    "for i in range(0, len(lines)):\n",
    "    for j in range(0, len(lines[0])):\n",
    "        # we need to go char after char.\n",
    "        # if it is an X:\n",
    "        # start checking in all directions: N, NE, E, SE, S, SW, W, NW\n",
    "        # stop checking if the next char is not M, then A, then S\n",
    "        if lines[i][j] == 'X':\n",
    "            occurences += check_north(i, j) + check_south(i, j) + check_east(i, j) + check_west(i, j)\n",
    "            # and diagonals\n",
    "            occurences += check_ne(i,j) + check_se(i,j) + check_sw(i, j) + check_nw(i, j)\n",
    "        \n",
    "\n",
    "occurences"
   ]
  },
  {
   "cell_type": "code",
   "execution_count": 55,
   "metadata": {},
   "outputs": [],
   "source": [
    "def check_xmas(i,j):\n",
    "    count = 0\n",
    "    if (lines[i-1][j-1] == 'M' and lines[i+1][j+1] == 'S') or (lines[i-1][j-1] == 'S' and lines[i+1][j+1] == 'M'):\n",
    "        count += 1\n",
    "    \n",
    "    if (lines[i-1][j+1] == 'M' and lines[i+1][j-1] == 'S') or (lines[i-1][j+1] == 'S' and lines[i+1][j-1] == 'M'):\n",
    "        count += 1\n",
    "\n",
    "    if count == 2:\n",
    "        return 1\n",
    "\n",
    "    return 0"
   ]
  },
  {
   "cell_type": "code",
   "execution_count": 56,
   "metadata": {},
   "outputs": [
    {
     "data": {
      "text/plain": [
       "2034"
      ]
     },
     "execution_count": 56,
     "metadata": {},
     "output_type": "execute_result"
    }
   ],
   "source": [
    "# part 2\n",
    "\n",
    "occurences = 0\n",
    "\n",
    "for i in range(1, len(lines)-1):\n",
    "    for j in range(1, len(lines) - 1):\n",
    "        if lines[i][j] == 'A':\n",
    "            occurences += check_xmas(i,j)\n",
    "\n",
    "occurences"
   ]
  }
 ],
 "metadata": {
  "kernelspec": {
   "display_name": "venv",
   "language": "python",
   "name": "python3"
  },
  "language_info": {
   "codemirror_mode": {
    "name": "ipython",
    "version": 3
   },
   "file_extension": ".py",
   "mimetype": "text/x-python",
   "name": "python",
   "nbconvert_exporter": "python",
   "pygments_lexer": "ipython3",
   "version": "3.13.0"
  }
 },
 "nbformat": 4,
 "nbformat_minor": 2
}
