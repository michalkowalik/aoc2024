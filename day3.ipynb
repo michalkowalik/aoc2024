{
 "cells": [
  {
   "cell_type": "code",
   "execution_count": 38,
   "metadata": {},
   "outputs": [],
   "source": [
    "import re\n",
    "\n",
    "with open(\"input-day3.txt\") as f:\n",
    "    text  = f.read()"
   ]
  },
  {
   "cell_type": "code",
   "execution_count": 39,
   "metadata": {},
   "outputs": [],
   "source": [
    "matches = re.findall(r'mul\\([0-9]+,[0-9]+\\)', text)"
   ]
  },
  {
   "cell_type": "code",
   "execution_count": null,
   "metadata": {},
   "outputs": [
    {
     "data": {
      "text/plain": [
       "183380722"
      ]
     },
     "execution_count": 40,
     "metadata": {},
     "output_type": "execute_result"
    }
   ],
   "source": [
    "sum = 0\n",
    "for m in matches:\n",
    "    (a,b) = m[4:][:-1].split(',')\n",
    "    sum += int(a)*int(b)\n",
    "\n",
    "sum"
   ]
  },
  {
   "cell_type": "code",
   "execution_count": null,
   "metadata": {},
   "outputs": [],
   "source": [
    "# part 2"
   ]
  },
  {
   "cell_type": "code",
   "execution_count": 44,
   "metadata": {},
   "outputs": [],
   "source": [
    "matches_part2 = re.findall(r'mul\\([0-9]+,[0-9]+\\)|do\\(\\)|don\\'t\\(\\)', text)"
   ]
  },
  {
   "cell_type": "code",
   "execution_count": 49,
   "metadata": {},
   "outputs": [
    {
     "data": {
      "text/plain": [
       "82733683"
      ]
     },
     "execution_count": 49,
     "metadata": {},
     "output_type": "execute_result"
    }
   ],
   "source": [
    "go = True\n",
    "sum = 0\n",
    "\n",
    "for m in matches_part2:\n",
    "    ops = m.split('(')[0]\n",
    "    if ops == 'mul':\n",
    "        if go:\n",
    "            (a,b) = m[4:][:-1].split(',')\n",
    "            sum += int(a)*int(b)\n",
    "    elif ops == 'do':\n",
    "        go = True\n",
    "    else:\n",
    "        go = False\n",
    "\n",
    "sum"
   ]
  }
 ],
 "metadata": {
  "kernelspec": {
   "display_name": "venv",
   "language": "python",
   "name": "python3"
  },
  "language_info": {
   "codemirror_mode": {
    "name": "ipython",
    "version": 3
   },
   "file_extension": ".py",
   "mimetype": "text/x-python",
   "name": "python",
   "nbconvert_exporter": "python",
   "pygments_lexer": "ipython3",
   "version": "3.13.0"
  }
 },
 "nbformat": 4,
 "nbformat_minor": 2
}
